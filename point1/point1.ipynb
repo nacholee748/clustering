{
 "cells": [
  {
   "attachments": {},
   "cell_type": "markdown",
   "metadata": {},
   "source": [
    "a.<br>\n",
    "Spectral Clustering is used when data is highly sparse"
   ]
  },
  {
   "attachments": {},
   "cell_type": "markdown",
   "metadata": {},
   "source": [
    "1. \n",
    "a- Los casos de uso son mas que todo cuando los datos son no lineales \n",
    "\tPermite agrupar en espacios no convexos \n",
    "\tEs importante identificar \n",
    "b - Apli sacar valores y vectores propios con una combinación lineal que termina dando puntos de asociación\n",
    "\tgenerando los grafos para calcular la matriz adyacente\n",
    "\n",
    "https://www.geeksforgeeks.org/ml-spectral-clustering/\n",
    "\n",
    "Medidas \n",
    "\tEntrecluster e Intracluster"
   ]
  }
 ],
 "metadata": {
  "language_info": {
   "name": "python"
  },
  "orig_nbformat": 4
 },
 "nbformat": 4,
 "nbformat_minor": 2
}
