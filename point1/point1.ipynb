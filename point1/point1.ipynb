{
 "cells": [
  {
   "attachments": {},
   "cell_type": "markdown",
   "metadata": {},
   "source": [
    "Point 1 <br>\n",
    "Research about the Spectral Clustering method, and answer the following questions:<br>\n",
    "a. In which cases might it be more useful to apply?<br>\n",
    "b. What are the mathematical fundamentals of it?<br>\n",
    "c. What is the algorithm to compute it?<br>\n",
    "d. Does it hold any relation to some of the concepts previously mentioned in class? Which, and how?<br>"
   ]
  },
  {
   "attachments": {},
   "cell_type": "markdown",
   "metadata": {},
   "source": [
    "a.<br>\n",
    "Spectral Clustering is used when data is highly sparse"
   ]
  }
 ],
 "metadata": {
  "language_info": {
   "name": "python"
  },
  "orig_nbformat": 4
 },
 "nbformat": 4,
 "nbformat_minor": 2
}
