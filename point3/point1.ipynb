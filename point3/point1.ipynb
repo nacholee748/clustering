{
 "cells": [
  {
   "attachments": {},
   "cell_type": "markdown",
   "metadata": {},
   "source": [
    "3. Se basa en el promedio de las distancias, pero cuando el promedio de las distancias no \t\n",
    "   se puede demorar mas encontrando el k optimo que clusterizandolo "
   ]
  }
 ],
 "metadata": {
  "language_info": {
   "name": "python"
  },
  "orig_nbformat": 4
 },
 "nbformat": 4,
 "nbformat_minor": 2
}
